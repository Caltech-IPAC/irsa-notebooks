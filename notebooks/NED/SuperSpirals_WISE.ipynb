{
 "cells": [
  {
   "cell_type": "markdown",
   "metadata": {},
   "source": [
    "# Science User Case - Inspecting a Candidate List\n",
    "\n",
    "Ogle et al. (2016) mined the NASA/IPAC Extragalactic Database (NED) to identify a new type of galaxy: Superluminous Spiral Galaxies. Here's the paper:\n",
    "\n",
    "Here's the paper: https://ui.adsabs.harvard.edu//#abs/2016ApJ...817..109O/abstract\n",
    "\n",
    "Table 1 lists the positions of these Super Spirals. Based on those positions, let's create multiwavelength cutouts for each super spiral to see what is unique about this new class of objects."
   ]
  },
  {
   "cell_type": "markdown",
   "metadata": {},
   "source": [
    "## 1. Import some Python modules."
   ]
  },
  {
   "cell_type": "code",
   "execution_count": null,
   "metadata": {},
   "outputs": [],
   "source": [
    "#Suppress unimportant warnings.\n",
    "import warnings\n",
    "warnings.filterwarnings(\"ignore\")\n",
    "#Add the workshop directory to your path.\n",
    "import sys\n",
    "sys.path.append('workshop-dev-master')\n",
    "\n",
    "#Import the workshop utilities.\n",
    "#import navo_utils.utils\n",
    "#from navo_utils.image import Image, ImageColumn\n",
    "#from navo_utils.spectra import Spectra, SpectraColumn\n",
    "#from navo_utils.cone import Cone\n",
    "#from navo_utils.tap import Tap\n",
    "#from navo_utils.utils import astropy_table_from_votable_response\n",
    "\n",
    "#Import the astropy Table module.\n",
    "from astropy.table import Table"
   ]
  },
  {
   "cell_type": "markdown",
   "metadata": {},
   "source": [
    "## 2. Search NED for objects in this paper.\n",
    "\n",
    "Insert a Code Cell below by clicking on the \"Insert\" Menu and choosing \"Insert Cell Below\". Then consult QuickReference.md to figure out how to use astroquery to search NED for all objects in a paper, based on the refcode of the paper. Inspect the resulting astropy table."
   ]
  },
  {
   "cell_type": "code",
   "execution_count": null,
   "metadata": {},
   "outputs": [],
   "source": [
    "from astroquery.ned import Ned\n",
    "objects_in_paper = Ned.query_refcode('2016ApJ...817..109O')\n",
    "objects_in_paper.show_in_notebook()"
   ]
  },
  {
   "cell_type": "markdown",
   "metadata": {},
   "source": [
    "## 3. Filter the NED results.\n",
    "\n",
    "The results from NED will include galaxies, but also other kinds of objects. Print the 'Type' column to see the full range of classifications. Next, print the 'Type' of just the first source in the table, in order to determine its data type (since Python 3 distinguishes between strings and byte strings). Finally, use the data type information to filter the results so that we only keep the galaxies in the list."
   ]
  },
  {
   "cell_type": "code",
   "execution_count": null,
   "metadata": {},
   "outputs": [],
   "source": [
    "objects_in_paper['Type']"
   ]
  },
  {
   "cell_type": "code",
   "execution_count": null,
   "metadata": {},
   "outputs": [],
   "source": [
    "#Let's see whether we are dealing with strings or byte strings\n",
    "objects_in_paper[0]['Type']"
   ]
  },
  {
   "cell_type": "code",
   "execution_count": null,
   "metadata": {},
   "outputs": [],
   "source": [
    "#Byte strings it is!\n",
    "galaxies = objects_in_paper[objects_in_paper['Type'] == b'G']\n",
    "\n",
    "galaxies.show_in_notebook()"
   ]
  },
  {
   "cell_type": "markdown",
   "metadata": {},
   "source": [
    "## 4. Search the NAVO Registry for image resources.\n",
    "\n",
    "The paper selected super spirals using WISE, SDSS, and GALEX images. Search the NAVO registry for all image resources, using the 'service_type' search parameter. How many image resources are currently available?"
   ]
  },
  {
   "cell_type": "code",
   "execution_count": null,
   "metadata": {},
   "outputs": [],
   "source": [
    "#from navo_utils.registry import Registry\n",
    "\n",
    "#image_services = Registry.query(service_type='image')\n",
    "\n",
    "#print(f'{len(image_services)} result(s) found.')\n",
    "\n",
    "#image_services"
   ]
  },
  {
   "cell_type": "markdown",
   "metadata": {},
   "source": [
    "## 5. Search the NAVO Registry for image resources that will allow you to search for AllWISE images.\n",
    "\n",
    "There are hundreds of image resources...too many to quickly read through. Try adding the 'keyword' search parameter to your registry search, and find the image resource you would need to search the AllWISE images."
   ]
  },
  {
   "cell_type": "code",
   "execution_count": null,
   "metadata": {},
   "outputs": [],
   "source": [
    "import pyvo as vo\n",
    "\n",
    "allwise_image_services = vo.regsearch(servicetype='image', keywords=['allwise'])#, 'NASA/IPAC Infrared Science Archive']) #, waveband='uv')\n",
    "\n",
    "\n",
    "#allwise_image_services = Registry.query(keyword='allwise', service_type='image')\n",
    "\n",
    "print(f'{len(allwise_image_services)} result(s) found.')\n",
    "\n",
    "allwise_image_services.to_table()['ivoid', 'short_name', 'res_title']\n"
   ]
  },
  {
   "cell_type": "markdown",
   "metadata": {},
   "source": [
    "## 6. Choose the AllWISE image service that you are interested in."
   ]
  },
  {
   "cell_type": "code",
   "execution_count": null,
   "metadata": {},
   "outputs": [],
   "source": [
    "allwise_image_service = allwise_image_services[0]\n",
    "allwise_image_service"
   ]
  },
  {
   "cell_type": "markdown",
   "metadata": {},
   "source": [
    "## 7. Choose one of the galaxies in the NED list.\n"
   ]
  },
  {
   "cell_type": "code",
   "execution_count": null,
   "metadata": {},
   "outputs": [],
   "source": [
    "from astropy.coordinates import SkyCoord\n",
    "ra = 3.95892\n",
    "dec = -10.045109999999999\n",
    "pos = SkyCoord(ra, dec, unit = 'deg')"
   ]
  },
  {
   "cell_type": "markdown",
   "metadata": {},
   "source": [
    "## 8. Search for a list of AllWISE images that cover this galaxy.\n",
    "\n",
    "How many images are returned? Which are you most interested in?"
   ]
  },
  {
   "cell_type": "code",
   "execution_count": null,
   "metadata": {},
   "outputs": [],
   "source": [
    "#from navo_utils.image import Image\n",
    "\n",
    "#Doing an image query will return a list.\n",
    "#Each element represents the search results for each position.\n",
    "#If you enter only one position, there will be only one element in the list.\n",
    "#Each element in the list can contain many images.\n",
    "\n",
    "#allwise_image_table=Image.query(service=allwise_image_service,coords=pos,radius=0)"
   ]
  },
  {
   "cell_type": "code",
   "execution_count": null,
   "metadata": {},
   "outputs": [],
   "source": [
    "allwise_image_table = allwise_image_service.search(pos=pos, size=0)\n",
    "allwise_image_table"
   ]
  },
  {
   "cell_type": "markdown",
   "metadata": {},
   "source": [
    "## 9. How many images are returned for this one position? Which are you most interested in?"
   ]
  },
  {
   "cell_type": "code",
   "execution_count": null,
   "metadata": {},
   "outputs": [],
   "source": [
    "allwise_images = allwise_image_table.to_table()\n",
    "allwise_images"
   ]
  },
  {
   "cell_type": "markdown",
   "metadata": {},
   "source": [
    "## 10. Filter the list of returned AllWISE images so that you are left with only the images taken in band W1 (3.6 micron)"
   ]
  },
  {
   "cell_type": "code",
   "execution_count": null,
   "metadata": {},
   "outputs": [],
   "source": [
    "allwise_w1_images = allwise_images[allwise_images['sia_bp_id'] == b'W1']\n",
    "allwise_w1_images"
   ]
  },
  {
   "cell_type": "markdown",
   "metadata": {},
   "source": [
    "## 11. Visualize this AllWISE image."
   ]
  },
  {
   "cell_type": "code",
   "execution_count": null,
   "metadata": {},
   "outputs": [],
   "source": [
    "#allwise_w1_image = Image.get_fits(allwise_w1_images[0])\n",
    "from astropy.io import fits\n",
    "allwise_w1_image = fits.open(allwise_w1_images['sia_url'][0].decode())"
   ]
  },
  {
   "cell_type": "code",
   "execution_count": null,
   "metadata": {},
   "outputs": [],
   "source": [
    "import matplotlib.pyplot as plt\n",
    "from astropy.wcs import WCS\n",
    "%matplotlib inline  \n",
    "\n",
    "fig = plt.figure()\n",
    "\n",
    "wcs = WCS(allwise_w1_image[0].header)\n",
    "ax = fig.add_subplot(1, 1, 1, projection=wcs)\n",
    "ax.imshow(allwise_w1_image[0].data, cmap='gray_r', origin='lower', vmax = 10)\n",
    "ax.scatter(ra, dec, transform=ax.get_transform('fk5'), s=500, edgecolor='red', facecolor='none')"
   ]
  },
  {
   "cell_type": "markdown",
   "metadata": {},
   "source": [
    "## 12. Plot a cutout of the AllWISE image, centered on your position.\n",
    "\n",
    "Try a 60 arcsecond cutout."
   ]
  },
  {
   "cell_type": "code",
   "execution_count": null,
   "metadata": {},
   "outputs": [],
   "source": [
    "from astropy.nddata import Cutout2D\n",
    "\n",
    "size = 60\n",
    "cutout = Cutout2D(allwise_w1_image[0].data, pos, (size, size), wcs=wcs)\n",
    "wcs = cutout.wcs\n",
    "\n",
    "fig = plt.figure()\n",
    "\n",
    "ax = fig.add_subplot(1, 1, 1, projection=wcs)\n",
    "ax.imshow(cutout.data, cmap='gray_r', origin='lower', vmax = 10)\n",
    "ax.scatter(ra, dec, transform=ax.get_transform('fk5'), s=500, edgecolor='red', facecolor='none')\n"
   ]
  },
  {
   "cell_type": "markdown",
   "metadata": {},
   "source": [
    "## 13. Try visualizing a cutout of a GALEX image that covers your position."
   ]
  },
  {
   "cell_type": "raw",
   "metadata": {},
   "source": [
    "galex_image_services = Registry.query(keyword='galex', service_type='image', publisher = 'Space Telescope Science Institute')\n",
    "#print(f'{len(galex_image_services)} result(s) found.')\n",
    "\n",
    "galex_image_service = galex_image_services[0]\n",
    "#galex_image_serviceservice,coords=pos,radius=0)\n",
    "\n",
    "galex_image_table = Image.query(service=galex_image_service,coords=pos,radius=0)\n",
    "galex_images = galex_image_table[0]\n",
    "#galex_image_table[0]\n",
    "\n",
    "galex_image_table[0]['contentType']\n",
    "galex_fits_images = galex_images[galex_images['contentType'] == 'image/fits']\n",
    "#galex_fits_images\n",
    "\n",
    "galex_nuv_fits_images = galex_fits_images[galex_fits_images['enrValue']==2.35e-07]\n",
    "#galex_nuv_fits_images\n",
    "\n",
    "galex_nuv_fits_coadd = galex_nuv_fits_images[0]\n",
    "#galex_nuv_fits_coadd\n",
    "\n",
    "galex_nuv_image = Image.get_fits(galex_nuv_fits_coadd)"
   ]
  },
  {
   "cell_type": "raw",
   "metadata": {},
   "source": [
    "import numpy as np\n",
    "image_data = galex_nuv_image[0].data\n",
    "print('Min:', np.min(image_data))\n",
    "print('Max:', np.max(image_data))\n",
    "print('Mean:', np.mean(image_data))\n",
    "print('Stdev:', np.std(image_data))"
   ]
  },
  {
   "cell_type": "raw",
   "metadata": {},
   "source": [
    "fig = plt.figure()\n",
    "ax = fig.add_subplot(1, 1, 1, projection=WCS(galex_nuv_image[0].header))\n",
    "ax.imshow(galex_nuv_image[0].data, cmap='gray_r', origin='lower', vmin=0.0, vmax=0.01)\n",
    "ax.scatter(ra, dec, transform=ax.get_transform('fk5'), s=500, edgecolor='red', facecolor='none')   "
   ]
  },
  {
   "cell_type": "raw",
   "metadata": {},
   "source": [
    "cutout = Cutout2D(galex_nuv_image[0].data, pos, size, wcs=WCS(galex_nuv_image[0].header))\n",
    "\n",
    "fig = plt.figure()\n",
    "\n",
    "ax = fig.add_subplot(1, 1, 1, projection=cutout.wcs)\n",
    "ax.imshow(cutout.data, cmap='gray_r', origin='lower', vmin = 0.0, vmax = 0.01)\n",
    "ax.scatter(ra, dec, transform=ax.get_transform('fk5'), s=500, edgecolor='red', facecolor='none')\n"
   ]
  }
 ],
 "metadata": {
  "kernelspec": {
   "display_name": "Python 3",
   "language": "python",
   "name": "python3"
  },
  "language_info": {
   "codemirror_mode": {
    "name": "ipython",
    "version": 3
   },
   "file_extension": ".py",
   "mimetype": "text/x-python",
   "name": "python",
   "nbconvert_exporter": "python",
   "pygments_lexer": "ipython3",
   "version": "3.7.3"
  }
 },
 "nbformat": 4,
 "nbformat_minor": 4
}
