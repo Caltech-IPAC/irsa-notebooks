{
 "cells": [
  {
   "cell_type": "markdown",
   "metadata": {},
   "source": [
    "# Science User Case - Inspecting a Candidate List\n",
    "\n",
    "Ogle et al. (2016) mined the NASA/IPAC Extragalactic Database (NED) to identify a new type of galaxy: Superluminous Spiral Galaxies. Here's the paper:\n",
    "\n",
    "Here's the paper: https://ui.adsabs.harvard.edu//#abs/2016ApJ...817..109O/abstract\n",
    "\n",
    "Table 1 lists the positions of these Super Spirals. Based on those positions, let's create multiwavelength cutouts for each super spiral to see what is unique about this new class of objects."
   ]
  },
  {
   "cell_type": "markdown",
   "metadata": {},
   "source": [
    "## 1. Import some Python modules."
   ]
  },
  {
   "cell_type": "code",
   "execution_count": 1,
   "metadata": {},
   "outputs": [],
   "source": [
    "#Suppress unimportant warnings.\n",
    "import warnings\n",
    "warnings.filterwarnings(\"ignore\")\n",
    "#Add the workshop directory to your path.\n",
    "import sys\n",
    "sys.path.append('workshop-dev-master')\n",
    "\n",
    "#Import the workshop utilities.\n",
    "#import navo_utils.utils\n",
    "#from navo_utils.image import Image, ImageColumn\n",
    "#from navo_utils.spectra import Spectra, SpectraColumn\n",
    "#from navo_utils.cone import Cone\n",
    "#from navo_utils.tap import Tap\n",
    "#from navo_utils.utils import astropy_table_from_votable_response\n",
    "\n",
    "#Import the astropy Table module.\n",
    "from astropy.table import Table"
   ]
  },
  {
   "cell_type": "markdown",
   "metadata": {},
   "source": [
    "## 2. Search NED for objects in this paper.\n",
    "\n",
    "Insert a Code Cell below by clicking on the \"Insert\" Menu and choosing \"Insert Cell Below\". Then consult QuickReference.md to figure out how to use astroquery to search NED for all objects in a paper, based on the refcode of the paper. Inspect the resulting astropy table."
   ]
  },
  {
   "cell_type": "code",
   "execution_count": 2,
   "metadata": {},
   "outputs": [
    {
     "data": {
      "text/html": [
       "<i>Table masked=True length=62</i>\n",
       "<table id=\"table4584517584-119665\" class=\"table-striped table-bordered table-condensed\">\n",
       "<thead><tr><th>idx</th><th>No.</th><th>Object Name</th><th>RA</th><th>DEC</th><th>Type</th><th>Velocity</th><th>Redshift</th><th>Redshift Flag</th><th>Magnitude and Filter</th><th>Separation</th><th>References</th><th>Notes</th><th>Photometry Points</th><th>Positions</th><th>Redshift Points</th><th>Diameter Points</th><th>Associations</th></tr></thead>\n",
       "<thead><tr><th></th><th></th><th></th><th>degrees</th><th>degrees</th><th></th><th>km / s</th><th></th><th></th><th></th><th>arcmin</th><th></th><th></th><th></th><th></th><th></th><th></th><th></th></tr></thead>\n",
       "<tr><td>0</td><td>1</td><td>WISEA J001550.14-100242.3</td><td>3.95892</td><td>-10.04511</td><td>G</td><td>52788.0</td><td>0.176083</td><td></td><td>17.5g</td><td>--</td><td>10</td><td>0</td><td>63</td><td>7</td><td>4</td><td>10</td><td>0</td></tr>\n",
       "<tr><td>1</td><td>2</td><td>WISEA J003807.80-010936.7</td><td>9.53252</td><td>-1.16024</td><td>G</td><td>62565.0</td><td>0.208695</td><td></td><td>18.0g</td><td>--</td><td>11</td><td>0</td><td>71</td><td>10</td><td>5</td><td>10</td><td>0</td></tr>\n",
       "<tr><td>2</td><td>3</td><td>WISEA J040422.92-054134.8</td><td>61.09548</td><td>-5.69303</td><td>G</td><td>75138.0</td><td>0.250635</td><td></td><td>18.6g</td><td>--</td><td>5</td><td>0</td><td>61</td><td>10</td><td>6</td><td>8</td><td>0</td></tr>\n",
       "<tr><td>3</td><td>4</td><td>WISEA J073806.16+282359.6</td><td>114.52568</td><td>28.39995</td><td>G</td><td>69255.0</td><td>0.23101</td><td></td><td>18.0g</td><td>--</td><td>8</td><td>0</td><td>66</td><td>7</td><td>4</td><td>10</td><td>0</td></tr>\n",
       "<tr><td>4</td><td>5</td><td>2MASX J07550424+1353261</td><td>118.76776</td><td>13.89065</td><td>G</td><td>66754.0</td><td>0.222669</td><td></td><td>18.5g</td><td>--</td><td>7</td><td>0</td><td>38</td><td>6</td><td>4</td><td>6</td><td>0</td></tr>\n",
       "<tr><td>5</td><td>6</td><td>WISEA J082655.11+181147.7</td><td>126.72969</td><td>18.19665</td><td>G</td><td>79608.0</td><td>0.265543</td><td></td><td>18.4g</td><td>--</td><td>4</td><td>0</td><td>46</td><td>6</td><td>4</td><td>6</td><td>0</td></tr>\n",
       "<tr><td>6</td><td>7</td><td>2MASX J08542169+0449308</td><td>133.59033</td><td>4.82511</td><td>G</td><td>47018.0</td><td>0.156835</td><td></td><td>16.7g</td><td>--</td><td>12</td><td>0</td><td>58</td><td>7</td><td>4</td><td>10</td><td>0</td></tr>\n",
       "<tr><td>7</td><td>8</td><td>WHL J090944.8+222607</td><td>137.4367</td><td>22.43539</td><td>GClstr</td><td>90837.0</td><td>0.303</td><td>PHOT</td><td></td><td>--</td><td>5</td><td>0</td><td>0</td><td>4</td><td>5</td><td>0</td><td>0</td></tr>\n",
       "<tr><td>8</td><td>9</td><td>2MASX J09094480+2226078</td><td>137.4367</td><td>22.43538</td><td>G</td><td>85557.0</td><td>0.285386</td><td></td><td>19.0g</td><td>--</td><td>6</td><td>0</td><td>30</td><td>5</td><td>6</td><td>6</td><td>0</td></tr>\n",
       "<tr><td>9</td><td>10</td><td>2MASX J09260805+2405242</td><td>141.53357</td><td>24.09004</td><td>G</td><td>66689.0</td><td>0.222451</td><td></td><td>17.8g</td><td>--</td><td>12</td><td>0</td><td>32</td><td>6</td><td>7</td><td>6</td><td>0</td></tr>\n",
       "<tr><td>10</td><td>11</td><td>WHL J092608.1+240524</td><td>141.53357</td><td>24.09004</td><td>GClstr</td><td>53363.0</td><td>0.178</td><td>PHOT</td><td></td><td>--</td><td>5</td><td>0</td><td>0</td><td>4</td><td>5</td><td>0</td><td>0</td></tr>\n",
       "<tr><td>11</td><td>12</td><td>WISEA J093347.77+211436.7</td><td>143.44901</td><td>21.24346</td><td>G</td><td>51626.0</td><td>0.172206</td><td></td><td>16.9g</td><td>--</td><td>39</td><td>0</td><td>49</td><td>14</td><td>10</td><td>6</td><td>1</td></tr>\n",
       "<tr><td>12</td><td>13</td><td>WISEA J093622.14+390628.9</td><td>144.09222</td><td>39.10801</td><td>G</td><td>84847.0</td><td>0.283019</td><td></td><td>18.5g</td><td>--</td><td>4</td><td>0</td><td>66</td><td>7</td><td>3</td><td>10</td><td>0</td></tr>\n",
       "<tr><td>13</td><td>14</td><td>MSPM 05544</td><td>146.2235</td><td>22.8851</td><td>GClstr</td><td>26738.0</td><td>0.08919</td><td></td><td></td><td>--</td><td>2</td><td>0</td><td>0</td><td>1</td><td>1</td><td>0</td><td>0</td></tr>\n",
       "<tr><td>14</td><td>15</td><td>CGCG 122-067</td><td>146.22351</td><td>22.88512</td><td>G</td><td>26684.0</td><td>0.089008</td><td></td><td>15.3g</td><td>--</td><td>22</td><td>0</td><td>48</td><td>7</td><td>5</td><td>8</td><td>0</td></tr>\n",
       "<tr><td>15</td><td>16</td><td>WISEA J094700.08+254045.8</td><td>146.75035</td><td>25.67938</td><td>G</td><td>32710.0</td><td>0.10911</td><td></td><td>15.8g</td><td>--</td><td>15</td><td>0</td><td>46</td><td>6</td><td>5</td><td>6</td><td>0</td></tr>\n",
       "<tr><td>16</td><td>17</td><td>SDSS J095727.02+083501.7</td><td>149.36259</td><td>8.58383</td><td>G</td><td>76917.0</td><td>0.256568</td><td></td><td>18.3g</td><td>--</td><td>4</td><td>0</td><td>39</td><td>5</td><td>3</td><td>8</td><td>0</td></tr>\n",
       "<tr><td>17</td><td>18</td><td>WISEA J100356.88+382902.1</td><td>150.98703</td><td>38.48391</td><td>G</td><td>77544.0</td><td>0.258658</td><td></td><td>17.8g</td><td>--</td><td>6</td><td>0</td><td>57</td><td>7</td><td>4</td><td>8</td><td>0</td></tr>\n",
       "<tr><td>18</td><td>19</td><td>WISEA J100416.04+295844.1</td><td>151.06683</td><td>29.97899</td><td>G</td><td>89469.0</td><td>0.298435</td><td></td><td>18.7g</td><td>--</td><td>5</td><td>0</td><td>66</td><td>7</td><td>4</td><td>10</td><td>0</td></tr>\n",
       "<tr><td>19</td><td>20</td><td>WISEA J100956.35+261132.0</td><td>152.48475</td><td>26.19223</td><td>G</td><td>72232.0</td><td>0.240939</td><td></td><td>18.1g</td><td>--</td><td>9</td><td>0</td><td>46</td><td>7</td><td>4</td><td>6</td><td>0</td></tr>\n",
       "<tr><td>20</td><td>21</td><td>GMBCG J152.52936+32.89139</td><td>152.52936</td><td>32.89139</td><td>GClstr</td><td>95634.0</td><td>0.319</td><td>PHOT</td><td></td><td>--</td><td>2</td><td>0</td><td>0</td><td>1</td><td>1</td><td>0</td><td>0</td></tr>\n",
       "<tr><td>21</td><td>22</td><td>WISEA J101007.05+325329.0</td><td>152.52936</td><td>32.89141</td><td>G</td><td>86914.0</td><td>0.289913</td><td></td><td>18.7g</td><td>--</td><td>7</td><td>0</td><td>66</td><td>7</td><td>4</td><td>10</td><td>0</td></tr>\n",
       "<tr><td>22</td><td>23</td><td>2MASS J10160396+3037481</td><td>154.01655</td><td>30.62998</td><td>G</td><td>75553.0</td><td>0.252016</td><td></td><td>18.7g</td><td>--</td><td>4</td><td>0</td><td>49</td><td>7</td><td>4</td><td>8</td><td>0</td></tr>\n",
       "<tr><td>23</td><td>24</td><td>WISEA J102154.85+072415.5</td><td>155.47856</td><td>7.40432</td><td>G</td><td>87111.0</td><td>0.29057</td><td></td><td>18.4g</td><td>--</td><td>4</td><td>0</td><td>55</td><td>7</td><td>3</td><td>8</td><td>0</td></tr>\n",
       "<tr><td>24</td><td>25</td><td>WISEA J103015.74-010607.0</td><td>157.56561</td><td>-1.10198</td><td>G</td><td>84617.0</td><td>0.282251</td><td></td><td>18.3g</td><td>--</td><td>8</td><td>0</td><td>62</td><td>9</td><td>5</td><td>10</td><td>0</td></tr>\n",
       "<tr><td>25</td><td>26</td><td>2MASX J10304263+0418219</td><td>157.67753</td><td>4.30602</td><td>G</td><td>48300.0</td><td>0.16111</td><td></td><td>16.8g</td><td>--</td><td>14</td><td>0</td><td>59</td><td>7</td><td>4</td><td>10</td><td>0</td></tr>\n",
       "<tr><td>26</td><td>27</td><td>SDSS CE J160.241898-01.069106</td><td>160.235</td><td>-1.06611</td><td>GClstr</td><td>76153.0</td><td>0.254019</td><td>EST</td><td></td><td>--</td><td>5</td><td>0</td><td>0</td><td>3</td><td>5</td><td>0</td><td>0</td></tr>\n",
       "<tr><td>27</td><td>28</td><td>2MASX J10405643-0103584</td><td>160.23509</td><td>-1.06632</td><td>G</td><td>75039.0</td><td>0.250303</td><td></td><td>18.2g</td><td>--</td><td>13</td><td>0</td><td>51</td><td>8</td><td>6</td><td>10</td><td>0</td></tr>\n",
       "<tr><td>28</td><td>29</td><td>WISEA J104724.97+230917.4</td><td>161.85435</td><td>23.15474</td><td>G</td><td>54754.0</td><td>0.182639</td><td></td><td>18.46</td><td>--</td><td>13</td><td>0</td><td>46</td><td>7</td><td>3</td><td>6</td><td>0</td></tr>\n",
       "<tr><td>29</td><td>30</td><td>WISEA J111917.41+141946.5</td><td>169.8226</td><td>14.3296</td><td>G</td><td>43104.0</td><td>0.143781</td><td></td><td>16.6g</td><td>--</td><td>14</td><td>0</td><td>66</td><td>7</td><td>4</td><td>10</td><td>0</td></tr>\n",
       "<tr><td>30</td><td>31</td><td>2MASS J11292875+0255498</td><td>172.36978</td><td>2.93055</td><td>G</td><td>71860.0</td><td>0.239698</td><td></td><td>17.5g</td><td>--</td><td>6</td><td>0</td><td>49</td><td>7</td><td>4</td><td>8</td><td>0</td></tr>\n",
       "<tr><td>31</td><td>32</td><td>WISEA J113800.86+521303.8</td><td>174.50367</td><td>52.21775</td><td>G</td><td>88744.0</td><td>0.296018</td><td></td><td>19.0g</td><td>--</td><td>6</td><td>0</td><td>57</td><td>7</td><td>3</td><td>8</td><td>0</td></tr>\n",
       "<tr><td>32</td><td>33</td><td>WISEA J114100.04+384807.4</td><td>175.25022</td><td>38.80207</td><td>G</td><td>80215.0</td><td>0.267567</td><td></td><td>18.5g</td><td>--</td><td>5</td><td>0</td><td>66</td><td>8</td><td>6</td><td>10</td><td>0</td></tr>\n",
       "<tr><td>33</td><td>34</td><td>WISEA J115052.96+460448.1</td><td>177.72076</td><td>46.08006</td><td>G</td><td>86801.0</td><td>0.289538</td><td></td><td>18.5g</td><td>--</td><td>7</td><td>0</td><td>53</td><td>8</td><td>6</td><td>8</td><td>0</td></tr>\n",
       "<tr><td>34</td><td>35</td><td>WISEA J115356.21+492355.4</td><td>178.48416</td><td>49.39881</td><td>G</td><td>50033.0</td><td>0.166892</td><td></td><td>17.1g</td><td>--</td><td>11</td><td>0</td><td>66</td><td>7</td><td>4</td><td>10</td><td>0</td></tr>\n",
       "<tr><td>35</td><td>36</td><td>2MASX J11593546+1257080</td><td>179.89761</td><td>12.95205</td><td>G</td><td>79017.0</td><td>0.263572</td><td></td><td>18.3g</td><td>--</td><td>4</td><td>0</td><td>54</td><td>6</td><td>4</td><td>10</td><td>0</td></tr>\n",
       "<tr><td>36</td><td>37</td><td>WISEA J120053.92+480007.8</td><td>180.22477</td><td>48.00213</td><td>G</td><td>83527.0</td><td>0.278617</td><td></td><td>18.4g</td><td>--</td><td>6</td><td>0</td><td>66</td><td>7</td><td>5</td><td>10</td><td>0</td></tr>\n",
       "<tr><td>37</td><td>38</td><td>GMBCG J180.22479+48.00211</td><td>180.22479</td><td>48.00211</td><td>GClstr</td><td>75548.0</td><td>0.252</td><td>PHOT</td><td></td><td>--</td><td>3</td><td>0</td><td>0</td><td>1</td><td>1</td><td>0</td><td>0</td></tr>\n",
       "<tr><td>38</td><td>39</td><td>WISEA J121644.33+122450.5</td><td>184.18477</td><td>12.41404</td><td>G</td><td>77090.0</td><td>0.257144</td><td></td><td>18.3g</td><td>--</td><td>4</td><td>0</td><td>55</td><td>7</td><td>3</td><td>8</td><td>0</td></tr>\n",
       "<tr><td>39</td><td>40</td><td>WISEA J122100.50+482729.1</td><td>185.25209</td><td>48.45807</td><td>G</td><td>89874.0</td><td>0.299787</td><td></td><td>18.7g</td><td>--</td><td>6</td><td>0</td><td>61</td><td>8</td><td>3</td><td>8</td><td>0</td></tr>\n",
       "<tr><td>40</td><td>41</td><td>WISEA J123215.19+102119.1</td><td>188.06311</td><td>10.35535</td><td>G</td><td>49742.0</td><td>0.16592</td><td></td><td>17.2g</td><td>--</td><td>12</td><td>0</td><td>66</td><td>8</td><td>4</td><td>10</td><td>0</td></tr>\n",
       "<tr><td>41</td><td>42</td><td>WISEA J123431.08+515629.7</td><td>188.62952</td><td>51.94146</td><td>G</td><td>88733.0</td><td>0.295982</td><td></td><td>18.1g</td><td>--</td><td>24</td><td>0</td><td>63</td><td>8</td><td>10</td><td>10</td><td>0</td></tr>\n",
       "<tr><td>42</td><td>43</td><td>WISEA J123746.63+481227.5</td><td>189.44448</td><td>48.20767</td><td>G</td><td>81721.0</td><td>0.272592</td><td></td><td>18.2g</td><td>--</td><td>5</td><td>0</td><td>64</td><td>7</td><td>4</td><td>10</td><td>0</td></tr>\n",
       "<tr><td>43</td><td>44</td><td>WISEA J131039.32+223502.8</td><td>197.66385</td><td>22.58407</td><td>G</td><td>69341.0</td><td>0.231295</td><td></td><td>18.1g</td><td>--</td><td>8</td><td>0</td><td>48</td><td>7</td><td>2</td><td>6</td><td>1</td></tr>\n",
       "<tr><td>44</td><td>45</td><td>WISEA J132757.52+334529.3</td><td>201.98969</td><td>33.75806</td><td>G</td><td>74633.0</td><td>0.248949</td><td></td><td>17.7g</td><td>--</td><td>12</td><td>0</td><td>78</td><td>11</td><td>4</td><td>10</td><td>0</td></tr>\n",
       "<tr><td>45</td><td>46</td><td>WISEA J134228.33+115734.5</td><td>205.61806</td><td>11.95954</td><td>G</td><td>83682.0</td><td>0.279133</td><td></td><td>19.0g</td><td>--</td><td>5</td><td>0</td><td>66</td><td>7</td><td>4</td><td>10</td><td>0</td></tr>\n",
       "<tr><td>46</td><td>47</td><td>WISEA J134355.49+244048.1</td><td>205.98124</td><td>24.68001</td><td>G</td><td>41149.0</td><td>0.137258</td><td></td><td>17.81</td><td>--</td><td>12</td><td>0</td><td>46</td><td>6</td><td>2</td><td>6</td><td>0</td></tr>\n",
       "<tr><td>47</td><td>48</td><td>SDSSCGB 16827</td><td>206.99833</td><td>32.44039</td><td>GGroup</td><td>--</td><td>--</td><td></td><td>18.44</td><td>--</td><td>2</td><td>0</td><td>0</td><td>1</td><td>0</td><td>0</td><td>0</td></tr>\n",
       "<tr><td>48</td><td>49</td><td>2MASX J13475962+3227100</td><td>206.99841</td><td>32.45286</td><td>G</td><td>66888.0</td><td>0.223113</td><td></td><td>18.1g</td><td>--</td><td>8</td><td>0</td><td>54</td><td>6</td><td>4</td><td>10</td><td>0</td></tr>\n",
       "<tr><td>49</td><td>50</td><td>WISEA J135546.08+025456.0</td><td>208.942</td><td>2.91553</td><td>G</td><td>71617.0</td><td>0.23889</td><td></td><td>18.7g</td><td>--</td><td>8</td><td>0</td><td>51</td><td>7</td><td>4</td><td>8</td><td>0</td></tr>\n",
       "<tr><td>50</td><td>51</td><td>WISEA J140138.37+263527.6</td><td>210.40991</td><td>26.591</td><td>G</td><td>85152.0</td><td>0.284036</td><td></td><td>18.7g</td><td>--</td><td>5</td><td>0</td><td>30</td><td>5</td><td>4</td><td>4</td><td>0</td></tr>\n",
       "<tr><td>51</td><td>52</td><td>2MASS J14175497+2704341</td><td>214.47905</td><td>27.07624</td><td>G</td><td>47238.0</td><td>0.157569</td><td></td><td>16.9g</td><td>--</td><td>13</td><td>0</td><td>25</td><td>6</td><td>6</td><td>4</td><td>0</td></tr>\n",
       "<tr><td>52</td><td>53</td><td>WISEA J143447.88+020228.8</td><td>218.69942</td><td>2.04129</td><td>G</td><td>83976.0</td><td>0.280115</td><td></td><td>18.6g</td><td>--</td><td>6</td><td>0</td><td>62</td><td>9</td><td>4</td><td>8</td><td>0</td></tr>\n",
       "<tr><td>53</td><td>54</td><td>WISEA J144728.35+590831.9</td><td>221.86807</td><td>59.14209</td><td>G</td><td>73609.0</td><td>0.245534</td><td></td><td>18.3g</td><td>--</td><td>10</td><td>0</td><td>69</td><td>9</td><td>5</td><td>10</td><td>0</td></tr>\n",
       "<tr><td>54</td><td>55</td><td>WISEA J153619.01+452247.7</td><td>234.07909</td><td>45.37968</td><td>G</td><td>70813.0</td><td>0.236206</td><td></td><td>18.1g</td><td>--</td><td>6</td><td>0</td><td>57</td><td>7</td><td>3</td><td>8</td><td>0</td></tr>\n",
       "<tr><td>55</td><td>56</td><td>WISEA J154307.78+193751.7</td><td>235.78241</td><td>19.63104</td><td>G</td><td>68625.0</td><td>0.228909</td><td></td><td>17.0g</td><td>--</td><td>29</td><td>1</td><td>50</td><td>12</td><td>10</td><td>6</td><td>0</td></tr>\n",
       "<tr><td>56</td><td>57</td><td>WISEA J154950.90+234444.0</td><td>237.46216</td><td>23.7456</td><td>G</td><td>78611.0</td><td>0.262217</td><td></td><td>18.5g</td><td>--</td><td>5</td><td>0</td><td>31</td><td>5</td><td>4</td><td>4</td><td>0</td></tr>\n",
       "<tr><td>57</td><td>58</td><td>GMBCG J240.41924+27.30444</td><td>240.41924</td><td>27.30444</td><td>GClstr</td><td>57860.0</td><td>0.193</td><td>PHOT</td><td></td><td>--</td><td>2</td><td>0</td><td>0</td><td>1</td><td>1</td><td>0</td><td>0</td></tr>\n",
       "<tr><td>58</td><td>59</td><td>2MASX J16014061+2718161</td><td>240.41924</td><td>27.30443</td><td>G</td><td>49332.0</td><td>0.164554</td><td></td><td>16.7g</td><td>--</td><td>14</td><td>0</td><td>54</td><td>6</td><td>5</td><td>10</td><td>1</td></tr>\n",
       "<tr><td>59</td><td>60</td><td>WISEA J163945.96+460905.8</td><td>249.94148</td><td>46.1517</td><td>G</td><td>74151.0</td><td>0.247342</td><td></td><td>18.3g</td><td>--</td><td>7</td><td>0</td><td>70</td><td>8</td><td>4</td><td>10</td><td>0</td></tr>\n",
       "<tr><td>60</td><td>61</td><td>WISEA J173406.17+602919.1</td><td>263.52577</td><td>60.48859</td><td>G</td><td>82685.0</td><td>0.275807</td><td></td><td>18.5g</td><td>--</td><td>6</td><td>0</td><td>66</td><td>7</td><td>3</td><td>10</td><td>0</td></tr>\n",
       "<tr><td>61</td><td>62</td><td>SDSSCGB 59704</td><td>263.53292</td><td>60.48197</td><td>GGroup</td><td>82743.0</td><td>0.276</td><td></td><td>17.20</td><td>--</td><td>2</td><td>0</td><td>0</td><td>1</td><td>0</td><td>0</td><td>0</td></tr>\n",
       "</table><style>table.dataTable {clear: both; width: auto !important; margin: 0 !important;}\n",
       ".dataTables_info, .dataTables_length, .dataTables_filter, .dataTables_paginate{\n",
       "display: inline-block; margin-right: 1em; }\n",
       ".paginate_button { margin-right: 5px; }\n",
       "</style>\n",
       "<script>\n",
       "\n",
       "var astropy_sort_num = function(a, b) {\n",
       "    var a_num = parseFloat(a);\n",
       "    var b_num = parseFloat(b);\n",
       "\n",
       "    if (isNaN(a_num) && isNaN(b_num))\n",
       "        return ((a < b) ? -1 : ((a > b) ? 1 : 0));\n",
       "    else if (!isNaN(a_num) && !isNaN(b_num))\n",
       "        return ((a_num < b_num) ? -1 : ((a_num > b_num) ? 1 : 0));\n",
       "    else\n",
       "        return isNaN(a_num) ? -1 : 1;\n",
       "}\n",
       "\n",
       "require.config({paths: {\n",
       "    datatables: 'https://cdn.datatables.net/1.10.12/js/jquery.dataTables.min'\n",
       "}});\n",
       "require([\"datatables\"], function(){\n",
       "    console.log(\"$('#table4584517584-119665').dataTable()\");\n",
       "    \n",
       "jQuery.extend( jQuery.fn.dataTableExt.oSort, {\n",
       "    \"optionalnum-asc\": astropy_sort_num,\n",
       "    \"optionalnum-desc\": function (a,b) { return -astropy_sort_num(a, b); }\n",
       "});\n",
       "\n",
       "    $('#table4584517584-119665').dataTable({\n",
       "        order: [],\n",
       "        pageLength: 50,\n",
       "        lengthMenu: [[10, 25, 50, 100, 500, 1000, -1], [10, 25, 50, 100, 500, 1000, 'All']],\n",
       "        pagingType: \"full_numbers\",\n",
       "        columnDefs: [{targets: [0, 1, 3, 4, 6, 7, 10, 11, 12, 13, 14, 15, 16, 17], type: \"optionalnum\"}]\n",
       "    });\n",
       "});\n",
       "</script>\n"
      ],
      "text/plain": [
       "<IPython.core.display.HTML object>"
      ]
     },
     "execution_count": 2,
     "metadata": {},
     "output_type": "execute_result"
    }
   ],
   "source": [
    "from astroquery.ned import Ned\n",
    "objects_in_paper = Ned.query_refcode('2016ApJ...817..109O')\n",
    "objects_in_paper.show_in_notebook()"
   ]
  },
  {
   "cell_type": "markdown",
   "metadata": {},
   "source": [
    "## 3. Filter the NED results.\n",
    "\n",
    "The results from NED will include galaxies, but also other kinds of objects. Print the 'Type' column to see the full range of classifications. Next, print the 'Type' of just the first source in the table, in order to determine its data type (since Python 3 distinguishes between strings and byte strings). Finally, use the data type information to filter the results so that we only keep the galaxies in the list."
   ]
  },
  {
   "cell_type": "code",
   "execution_count": 3,
   "metadata": {},
   "outputs": [
    {
     "data": {
      "text/html": [
       "&lt;MaskedColumn name=&apos;Type&apos; dtype=&apos;object&apos; description=&quot;NED&apos;s Preferred Object Type: G,GPair,GTrpl,GGroup,GClstr,QSO,AbLS,RadioS,IrS,EmLS,UvES,XrayS,SN&quot; length=62&gt;\n",
       "<table>\n",
       "<tr><td>G</td></tr>\n",
       "<tr><td>G</td></tr>\n",
       "<tr><td>G</td></tr>\n",
       "<tr><td>G</td></tr>\n",
       "<tr><td>G</td></tr>\n",
       "<tr><td>G</td></tr>\n",
       "<tr><td>G</td></tr>\n",
       "<tr><td>GClstr</td></tr>\n",
       "<tr><td>G</td></tr>\n",
       "<tr><td>G</td></tr>\n",
       "<tr><td>GClstr</td></tr>\n",
       "<tr><td>G</td></tr>\n",
       "<tr><td>...</td></tr>\n",
       "<tr><td>G</td></tr>\n",
       "<tr><td>G</td></tr>\n",
       "<tr><td>G</td></tr>\n",
       "<tr><td>G</td></tr>\n",
       "<tr><td>G</td></tr>\n",
       "<tr><td>G</td></tr>\n",
       "<tr><td>G</td></tr>\n",
       "<tr><td>GClstr</td></tr>\n",
       "<tr><td>G</td></tr>\n",
       "<tr><td>G</td></tr>\n",
       "<tr><td>G</td></tr>\n",
       "<tr><td>GGroup</td></tr>\n",
       "</table>"
      ],
      "text/plain": [
       "<MaskedColumn name='Type' dtype='object' description=\"NED's Preferred Object Type: G,GPair,GTrpl,GGroup,GClstr,QSO,AbLS,RadioS,IrS,EmLS,UvES,XrayS,SN\" length=62>\n",
       "     G\n",
       "     G\n",
       "     G\n",
       "     G\n",
       "     G\n",
       "     G\n",
       "     G\n",
       "GClstr\n",
       "     G\n",
       "     G\n",
       "GClstr\n",
       "     G\n",
       "   ...\n",
       "     G\n",
       "     G\n",
       "     G\n",
       "     G\n",
       "     G\n",
       "     G\n",
       "     G\n",
       "GClstr\n",
       "     G\n",
       "     G\n",
       "     G\n",
       "GGroup"
      ]
     },
     "execution_count": 3,
     "metadata": {},
     "output_type": "execute_result"
    }
   ],
   "source": [
    "objects_in_paper['Type']"
   ]
  },
  {
   "cell_type": "code",
   "execution_count": 4,
   "metadata": {},
   "outputs": [
    {
     "data": {
      "text/plain": [
       "b'G'"
      ]
     },
     "execution_count": 4,
     "metadata": {},
     "output_type": "execute_result"
    }
   ],
   "source": [
    "#Let's see whether we are dealing with strings or byte strings\n",
    "objects_in_paper[0]['Type']"
   ]
  },
  {
   "cell_type": "code",
   "execution_count": 5,
   "metadata": {},
   "outputs": [
    {
     "data": {
      "text/html": [
       "<i>Table masked=True length=53</i>\n",
       "<table id=\"table4798803416-797896\" class=\"table-striped table-bordered table-condensed\">\n",
       "<thead><tr><th>idx</th><th>No.</th><th>Object Name</th><th>RA</th><th>DEC</th><th>Type</th><th>Velocity</th><th>Redshift</th><th>Redshift Flag</th><th>Magnitude and Filter</th><th>Separation</th><th>References</th><th>Notes</th><th>Photometry Points</th><th>Positions</th><th>Redshift Points</th><th>Diameter Points</th><th>Associations</th></tr></thead>\n",
       "<thead><tr><th></th><th></th><th></th><th>degrees</th><th>degrees</th><th></th><th>km / s</th><th></th><th></th><th></th><th>arcmin</th><th></th><th></th><th></th><th></th><th></th><th></th><th></th></tr></thead>\n",
       "<tr><td>0</td><td>1</td><td>WISEA J001550.14-100242.3</td><td>3.95892</td><td>-10.04511</td><td>G</td><td>52788.0</td><td>0.176083</td><td></td><td>17.5g</td><td>--</td><td>10</td><td>0</td><td>63</td><td>7</td><td>4</td><td>10</td><td>0</td></tr>\n",
       "<tr><td>1</td><td>2</td><td>WISEA J003807.80-010936.7</td><td>9.53252</td><td>-1.16024</td><td>G</td><td>62565.0</td><td>0.208695</td><td></td><td>18.0g</td><td>--</td><td>11</td><td>0</td><td>71</td><td>10</td><td>5</td><td>10</td><td>0</td></tr>\n",
       "<tr><td>2</td><td>3</td><td>WISEA J040422.92-054134.8</td><td>61.09548</td><td>-5.69303</td><td>G</td><td>75138.0</td><td>0.250635</td><td></td><td>18.6g</td><td>--</td><td>5</td><td>0</td><td>61</td><td>10</td><td>6</td><td>8</td><td>0</td></tr>\n",
       "<tr><td>3</td><td>4</td><td>WISEA J073806.16+282359.6</td><td>114.52568</td><td>28.39995</td><td>G</td><td>69255.0</td><td>0.23101</td><td></td><td>18.0g</td><td>--</td><td>8</td><td>0</td><td>66</td><td>7</td><td>4</td><td>10</td><td>0</td></tr>\n",
       "<tr><td>4</td><td>5</td><td>2MASX J07550424+1353261</td><td>118.76776</td><td>13.89065</td><td>G</td><td>66754.0</td><td>0.222669</td><td></td><td>18.5g</td><td>--</td><td>7</td><td>0</td><td>38</td><td>6</td><td>4</td><td>6</td><td>0</td></tr>\n",
       "<tr><td>5</td><td>6</td><td>WISEA J082655.11+181147.7</td><td>126.72969</td><td>18.19665</td><td>G</td><td>79608.0</td><td>0.265543</td><td></td><td>18.4g</td><td>--</td><td>4</td><td>0</td><td>46</td><td>6</td><td>4</td><td>6</td><td>0</td></tr>\n",
       "<tr><td>6</td><td>7</td><td>2MASX J08542169+0449308</td><td>133.59033</td><td>4.82511</td><td>G</td><td>47018.0</td><td>0.156835</td><td></td><td>16.7g</td><td>--</td><td>12</td><td>0</td><td>58</td><td>7</td><td>4</td><td>10</td><td>0</td></tr>\n",
       "<tr><td>7</td><td>9</td><td>2MASX J09094480+2226078</td><td>137.4367</td><td>22.43538</td><td>G</td><td>85557.0</td><td>0.285386</td><td></td><td>19.0g</td><td>--</td><td>6</td><td>0</td><td>30</td><td>5</td><td>6</td><td>6</td><td>0</td></tr>\n",
       "<tr><td>8</td><td>10</td><td>2MASX J09260805+2405242</td><td>141.53357</td><td>24.09004</td><td>G</td><td>66689.0</td><td>0.222451</td><td></td><td>17.8g</td><td>--</td><td>12</td><td>0</td><td>32</td><td>6</td><td>7</td><td>6</td><td>0</td></tr>\n",
       "<tr><td>9</td><td>12</td><td>WISEA J093347.77+211436.7</td><td>143.44901</td><td>21.24346</td><td>G</td><td>51626.0</td><td>0.172206</td><td></td><td>16.9g</td><td>--</td><td>39</td><td>0</td><td>49</td><td>14</td><td>10</td><td>6</td><td>1</td></tr>\n",
       "<tr><td>10</td><td>13</td><td>WISEA J093622.14+390628.9</td><td>144.09222</td><td>39.10801</td><td>G</td><td>84847.0</td><td>0.283019</td><td></td><td>18.5g</td><td>--</td><td>4</td><td>0</td><td>66</td><td>7</td><td>3</td><td>10</td><td>0</td></tr>\n",
       "<tr><td>11</td><td>15</td><td>CGCG 122-067</td><td>146.22351</td><td>22.88512</td><td>G</td><td>26684.0</td><td>0.089008</td><td></td><td>15.3g</td><td>--</td><td>22</td><td>0</td><td>48</td><td>7</td><td>5</td><td>8</td><td>0</td></tr>\n",
       "<tr><td>12</td><td>16</td><td>WISEA J094700.08+254045.8</td><td>146.75035</td><td>25.67938</td><td>G</td><td>32710.0</td><td>0.10911</td><td></td><td>15.8g</td><td>--</td><td>15</td><td>0</td><td>46</td><td>6</td><td>5</td><td>6</td><td>0</td></tr>\n",
       "<tr><td>13</td><td>17</td><td>SDSS J095727.02+083501.7</td><td>149.36259</td><td>8.58383</td><td>G</td><td>76917.0</td><td>0.256568</td><td></td><td>18.3g</td><td>--</td><td>4</td><td>0</td><td>39</td><td>5</td><td>3</td><td>8</td><td>0</td></tr>\n",
       "<tr><td>14</td><td>18</td><td>WISEA J100356.88+382902.1</td><td>150.98703</td><td>38.48391</td><td>G</td><td>77544.0</td><td>0.258658</td><td></td><td>17.8g</td><td>--</td><td>6</td><td>0</td><td>57</td><td>7</td><td>4</td><td>8</td><td>0</td></tr>\n",
       "<tr><td>15</td><td>19</td><td>WISEA J100416.04+295844.1</td><td>151.06683</td><td>29.97899</td><td>G</td><td>89469.0</td><td>0.298435</td><td></td><td>18.7g</td><td>--</td><td>5</td><td>0</td><td>66</td><td>7</td><td>4</td><td>10</td><td>0</td></tr>\n",
       "<tr><td>16</td><td>20</td><td>WISEA J100956.35+261132.0</td><td>152.48475</td><td>26.19223</td><td>G</td><td>72232.0</td><td>0.240939</td><td></td><td>18.1g</td><td>--</td><td>9</td><td>0</td><td>46</td><td>7</td><td>4</td><td>6</td><td>0</td></tr>\n",
       "<tr><td>17</td><td>22</td><td>WISEA J101007.05+325329.0</td><td>152.52936</td><td>32.89141</td><td>G</td><td>86914.0</td><td>0.289913</td><td></td><td>18.7g</td><td>--</td><td>7</td><td>0</td><td>66</td><td>7</td><td>4</td><td>10</td><td>0</td></tr>\n",
       "<tr><td>18</td><td>23</td><td>2MASS J10160396+3037481</td><td>154.01655</td><td>30.62998</td><td>G</td><td>75553.0</td><td>0.252016</td><td></td><td>18.7g</td><td>--</td><td>4</td><td>0</td><td>49</td><td>7</td><td>4</td><td>8</td><td>0</td></tr>\n",
       "<tr><td>19</td><td>24</td><td>WISEA J102154.85+072415.5</td><td>155.47856</td><td>7.40432</td><td>G</td><td>87111.0</td><td>0.29057</td><td></td><td>18.4g</td><td>--</td><td>4</td><td>0</td><td>55</td><td>7</td><td>3</td><td>8</td><td>0</td></tr>\n",
       "<tr><td>20</td><td>25</td><td>WISEA J103015.74-010607.0</td><td>157.56561</td><td>-1.10198</td><td>G</td><td>84617.0</td><td>0.282251</td><td></td><td>18.3g</td><td>--</td><td>8</td><td>0</td><td>62</td><td>9</td><td>5</td><td>10</td><td>0</td></tr>\n",
       "<tr><td>21</td><td>26</td><td>2MASX J10304263+0418219</td><td>157.67753</td><td>4.30602</td><td>G</td><td>48300.0</td><td>0.16111</td><td></td><td>16.8g</td><td>--</td><td>14</td><td>0</td><td>59</td><td>7</td><td>4</td><td>10</td><td>0</td></tr>\n",
       "<tr><td>22</td><td>28</td><td>2MASX J10405643-0103584</td><td>160.23509</td><td>-1.06632</td><td>G</td><td>75039.0</td><td>0.250303</td><td></td><td>18.2g</td><td>--</td><td>13</td><td>0</td><td>51</td><td>8</td><td>6</td><td>10</td><td>0</td></tr>\n",
       "<tr><td>23</td><td>29</td><td>WISEA J104724.97+230917.4</td><td>161.85435</td><td>23.15474</td><td>G</td><td>54754.0</td><td>0.182639</td><td></td><td>18.46</td><td>--</td><td>13</td><td>0</td><td>46</td><td>7</td><td>3</td><td>6</td><td>0</td></tr>\n",
       "<tr><td>24</td><td>30</td><td>WISEA J111917.41+141946.5</td><td>169.8226</td><td>14.3296</td><td>G</td><td>43104.0</td><td>0.143781</td><td></td><td>16.6g</td><td>--</td><td>14</td><td>0</td><td>66</td><td>7</td><td>4</td><td>10</td><td>0</td></tr>\n",
       "<tr><td>25</td><td>31</td><td>2MASS J11292875+0255498</td><td>172.36978</td><td>2.93055</td><td>G</td><td>71860.0</td><td>0.239698</td><td></td><td>17.5g</td><td>--</td><td>6</td><td>0</td><td>49</td><td>7</td><td>4</td><td>8</td><td>0</td></tr>\n",
       "<tr><td>26</td><td>32</td><td>WISEA J113800.86+521303.8</td><td>174.50367</td><td>52.21775</td><td>G</td><td>88744.0</td><td>0.296018</td><td></td><td>19.0g</td><td>--</td><td>6</td><td>0</td><td>57</td><td>7</td><td>3</td><td>8</td><td>0</td></tr>\n",
       "<tr><td>27</td><td>33</td><td>WISEA J114100.04+384807.4</td><td>175.25022</td><td>38.80207</td><td>G</td><td>80215.0</td><td>0.267567</td><td></td><td>18.5g</td><td>--</td><td>5</td><td>0</td><td>66</td><td>8</td><td>6</td><td>10</td><td>0</td></tr>\n",
       "<tr><td>28</td><td>34</td><td>WISEA J115052.96+460448.1</td><td>177.72076</td><td>46.08006</td><td>G</td><td>86801.0</td><td>0.289538</td><td></td><td>18.5g</td><td>--</td><td>7</td><td>0</td><td>53</td><td>8</td><td>6</td><td>8</td><td>0</td></tr>\n",
       "<tr><td>29</td><td>35</td><td>WISEA J115356.21+492355.4</td><td>178.48416</td><td>49.39881</td><td>G</td><td>50033.0</td><td>0.166892</td><td></td><td>17.1g</td><td>--</td><td>11</td><td>0</td><td>66</td><td>7</td><td>4</td><td>10</td><td>0</td></tr>\n",
       "<tr><td>30</td><td>36</td><td>2MASX J11593546+1257080</td><td>179.89761</td><td>12.95205</td><td>G</td><td>79017.0</td><td>0.263572</td><td></td><td>18.3g</td><td>--</td><td>4</td><td>0</td><td>54</td><td>6</td><td>4</td><td>10</td><td>0</td></tr>\n",
       "<tr><td>31</td><td>37</td><td>WISEA J120053.92+480007.8</td><td>180.22477</td><td>48.00213</td><td>G</td><td>83527.0</td><td>0.278617</td><td></td><td>18.4g</td><td>--</td><td>6</td><td>0</td><td>66</td><td>7</td><td>5</td><td>10</td><td>0</td></tr>\n",
       "<tr><td>32</td><td>39</td><td>WISEA J121644.33+122450.5</td><td>184.18477</td><td>12.41404</td><td>G</td><td>77090.0</td><td>0.257144</td><td></td><td>18.3g</td><td>--</td><td>4</td><td>0</td><td>55</td><td>7</td><td>3</td><td>8</td><td>0</td></tr>\n",
       "<tr><td>33</td><td>40</td><td>WISEA J122100.50+482729.1</td><td>185.25209</td><td>48.45807</td><td>G</td><td>89874.0</td><td>0.299787</td><td></td><td>18.7g</td><td>--</td><td>6</td><td>0</td><td>61</td><td>8</td><td>3</td><td>8</td><td>0</td></tr>\n",
       "<tr><td>34</td><td>41</td><td>WISEA J123215.19+102119.1</td><td>188.06311</td><td>10.35535</td><td>G</td><td>49742.0</td><td>0.16592</td><td></td><td>17.2g</td><td>--</td><td>12</td><td>0</td><td>66</td><td>8</td><td>4</td><td>10</td><td>0</td></tr>\n",
       "<tr><td>35</td><td>42</td><td>WISEA J123431.08+515629.7</td><td>188.62952</td><td>51.94146</td><td>G</td><td>88733.0</td><td>0.295982</td><td></td><td>18.1g</td><td>--</td><td>24</td><td>0</td><td>63</td><td>8</td><td>10</td><td>10</td><td>0</td></tr>\n",
       "<tr><td>36</td><td>43</td><td>WISEA J123746.63+481227.5</td><td>189.44448</td><td>48.20767</td><td>G</td><td>81721.0</td><td>0.272592</td><td></td><td>18.2g</td><td>--</td><td>5</td><td>0</td><td>64</td><td>7</td><td>4</td><td>10</td><td>0</td></tr>\n",
       "<tr><td>37</td><td>44</td><td>WISEA J131039.32+223502.8</td><td>197.66385</td><td>22.58407</td><td>G</td><td>69341.0</td><td>0.231295</td><td></td><td>18.1g</td><td>--</td><td>8</td><td>0</td><td>48</td><td>7</td><td>2</td><td>6</td><td>1</td></tr>\n",
       "<tr><td>38</td><td>45</td><td>WISEA J132757.52+334529.3</td><td>201.98969</td><td>33.75806</td><td>G</td><td>74633.0</td><td>0.248949</td><td></td><td>17.7g</td><td>--</td><td>12</td><td>0</td><td>78</td><td>11</td><td>4</td><td>10</td><td>0</td></tr>\n",
       "<tr><td>39</td><td>46</td><td>WISEA J134228.33+115734.5</td><td>205.61806</td><td>11.95954</td><td>G</td><td>83682.0</td><td>0.279133</td><td></td><td>19.0g</td><td>--</td><td>5</td><td>0</td><td>66</td><td>7</td><td>4</td><td>10</td><td>0</td></tr>\n",
       "<tr><td>40</td><td>47</td><td>WISEA J134355.49+244048.1</td><td>205.98124</td><td>24.68001</td><td>G</td><td>41149.0</td><td>0.137258</td><td></td><td>17.81</td><td>--</td><td>12</td><td>0</td><td>46</td><td>6</td><td>2</td><td>6</td><td>0</td></tr>\n",
       "<tr><td>41</td><td>49</td><td>2MASX J13475962+3227100</td><td>206.99841</td><td>32.45286</td><td>G</td><td>66888.0</td><td>0.223113</td><td></td><td>18.1g</td><td>--</td><td>8</td><td>0</td><td>54</td><td>6</td><td>4</td><td>10</td><td>0</td></tr>\n",
       "<tr><td>42</td><td>50</td><td>WISEA J135546.08+025456.0</td><td>208.942</td><td>2.91553</td><td>G</td><td>71617.0</td><td>0.23889</td><td></td><td>18.7g</td><td>--</td><td>8</td><td>0</td><td>51</td><td>7</td><td>4</td><td>8</td><td>0</td></tr>\n",
       "<tr><td>43</td><td>51</td><td>WISEA J140138.37+263527.6</td><td>210.40991</td><td>26.591</td><td>G</td><td>85152.0</td><td>0.284036</td><td></td><td>18.7g</td><td>--</td><td>5</td><td>0</td><td>30</td><td>5</td><td>4</td><td>4</td><td>0</td></tr>\n",
       "<tr><td>44</td><td>52</td><td>2MASS J14175497+2704341</td><td>214.47905</td><td>27.07624</td><td>G</td><td>47238.0</td><td>0.157569</td><td></td><td>16.9g</td><td>--</td><td>13</td><td>0</td><td>25</td><td>6</td><td>6</td><td>4</td><td>0</td></tr>\n",
       "<tr><td>45</td><td>53</td><td>WISEA J143447.88+020228.8</td><td>218.69942</td><td>2.04129</td><td>G</td><td>83976.0</td><td>0.280115</td><td></td><td>18.6g</td><td>--</td><td>6</td><td>0</td><td>62</td><td>9</td><td>4</td><td>8</td><td>0</td></tr>\n",
       "<tr><td>46</td><td>54</td><td>WISEA J144728.35+590831.9</td><td>221.86807</td><td>59.14209</td><td>G</td><td>73609.0</td><td>0.245534</td><td></td><td>18.3g</td><td>--</td><td>10</td><td>0</td><td>69</td><td>9</td><td>5</td><td>10</td><td>0</td></tr>\n",
       "<tr><td>47</td><td>55</td><td>WISEA J153619.01+452247.7</td><td>234.07909</td><td>45.37968</td><td>G</td><td>70813.0</td><td>0.236206</td><td></td><td>18.1g</td><td>--</td><td>6</td><td>0</td><td>57</td><td>7</td><td>3</td><td>8</td><td>0</td></tr>\n",
       "<tr><td>48</td><td>56</td><td>WISEA J154307.78+193751.7</td><td>235.78241</td><td>19.63104</td><td>G</td><td>68625.0</td><td>0.228909</td><td></td><td>17.0g</td><td>--</td><td>29</td><td>1</td><td>50</td><td>12</td><td>10</td><td>6</td><td>0</td></tr>\n",
       "<tr><td>49</td><td>57</td><td>WISEA J154950.90+234444.0</td><td>237.46216</td><td>23.7456</td><td>G</td><td>78611.0</td><td>0.262217</td><td></td><td>18.5g</td><td>--</td><td>5</td><td>0</td><td>31</td><td>5</td><td>4</td><td>4</td><td>0</td></tr>\n",
       "<tr><td>50</td><td>59</td><td>2MASX J16014061+2718161</td><td>240.41924</td><td>27.30443</td><td>G</td><td>49332.0</td><td>0.164554</td><td></td><td>16.7g</td><td>--</td><td>14</td><td>0</td><td>54</td><td>6</td><td>5</td><td>10</td><td>1</td></tr>\n",
       "<tr><td>51</td><td>60</td><td>WISEA J163945.96+460905.8</td><td>249.94148</td><td>46.1517</td><td>G</td><td>74151.0</td><td>0.247342</td><td></td><td>18.3g</td><td>--</td><td>7</td><td>0</td><td>70</td><td>8</td><td>4</td><td>10</td><td>0</td></tr>\n",
       "<tr><td>52</td><td>61</td><td>WISEA J173406.17+602919.1</td><td>263.52577</td><td>60.48859</td><td>G</td><td>82685.0</td><td>0.275807</td><td></td><td>18.5g</td><td>--</td><td>6</td><td>0</td><td>66</td><td>7</td><td>3</td><td>10</td><td>0</td></tr>\n",
       "</table><style>table.dataTable {clear: both; width: auto !important; margin: 0 !important;}\n",
       ".dataTables_info, .dataTables_length, .dataTables_filter, .dataTables_paginate{\n",
       "display: inline-block; margin-right: 1em; }\n",
       ".paginate_button { margin-right: 5px; }\n",
       "</style>\n",
       "<script>\n",
       "\n",
       "var astropy_sort_num = function(a, b) {\n",
       "    var a_num = parseFloat(a);\n",
       "    var b_num = parseFloat(b);\n",
       "\n",
       "    if (isNaN(a_num) && isNaN(b_num))\n",
       "        return ((a < b) ? -1 : ((a > b) ? 1 : 0));\n",
       "    else if (!isNaN(a_num) && !isNaN(b_num))\n",
       "        return ((a_num < b_num) ? -1 : ((a_num > b_num) ? 1 : 0));\n",
       "    else\n",
       "        return isNaN(a_num) ? -1 : 1;\n",
       "}\n",
       "\n",
       "require.config({paths: {\n",
       "    datatables: 'https://cdn.datatables.net/1.10.12/js/jquery.dataTables.min'\n",
       "}});\n",
       "require([\"datatables\"], function(){\n",
       "    console.log(\"$('#table4798803416-797896').dataTable()\");\n",
       "    \n",
       "jQuery.extend( jQuery.fn.dataTableExt.oSort, {\n",
       "    \"optionalnum-asc\": astropy_sort_num,\n",
       "    \"optionalnum-desc\": function (a,b) { return -astropy_sort_num(a, b); }\n",
       "});\n",
       "\n",
       "    $('#table4798803416-797896').dataTable({\n",
       "        order: [],\n",
       "        pageLength: 50,\n",
       "        lengthMenu: [[10, 25, 50, 100, 500, 1000, -1], [10, 25, 50, 100, 500, 1000, 'All']],\n",
       "        pagingType: \"full_numbers\",\n",
       "        columnDefs: [{targets: [0, 1, 3, 4, 6, 7, 10, 11, 12, 13, 14, 15, 16, 17], type: \"optionalnum\"}]\n",
       "    });\n",
       "});\n",
       "</script>\n"
      ],
      "text/plain": [
       "<IPython.core.display.HTML object>"
      ]
     },
     "execution_count": 5,
     "metadata": {},
     "output_type": "execute_result"
    }
   ],
   "source": [
    "#Byte strings it is!\n",
    "galaxies = objects_in_paper[objects_in_paper['Type'] == b'G']\n",
    "\n",
    "galaxies.show_in_notebook()"
   ]
  },
  {
   "cell_type": "markdown",
   "metadata": {},
   "source": [
    "## 4. Search the NAVO Registry for image resources.\n",
    "\n",
    "The paper selected super spirals using WISE, SDSS, and GALEX images. Search the NAVO registry for all image resources, using the 'service_type' search parameter. How many image resources are currently available?"
   ]
  },
  {
   "cell_type": "code",
   "execution_count": 6,
   "metadata": {},
   "outputs": [],
   "source": [
    "#from navo_utils.registry import Registry\n",
    "\n",
    "#image_services = Registry.query(service_type='image')\n",
    "\n",
    "#print(f'{len(image_services)} result(s) found.')\n",
    "\n",
    "#image_services"
   ]
  },
  {
   "cell_type": "markdown",
   "metadata": {},
   "source": [
    "## 5. Search the NAVO Registry for image resources that will allow you to search for AllWISE images.\n",
    "\n",
    "There are hundreds of image resources...too many to quickly read through. Try adding the 'keyword' search parameter to your registry search, and find the image resource you would need to search the AllWISE images."
   ]
  },
  {
   "cell_type": "code",
   "execution_count": 7,
   "metadata": {},
   "outputs": [
    {
     "name": "stdout",
     "output_type": "stream",
     "text": [
      "1 result(s) found.\n"
     ]
    },
    {
     "data": {
      "text/html": [
       "<i>Table masked=True length=1</i>\n",
       "<table id=\"table4804108128\" class=\"table-striped table-bordered table-condensed\">\n",
       "<thead><tr><th>ivoid</th><th>short_name</th><th>res_title</th></tr></thead>\n",
       "<thead><tr><th>object</th><th>object</th><th>object</th></tr></thead>\n",
       "<tr><td>ivo://irsa.ipac/wise/images/allwise/l3a</td><td>AllWISE L3a</td><td>AllWISE Atlas (L3a) Coadd Images</td></tr>\n",
       "</table>"
      ],
      "text/plain": [
       "<Table masked=True length=1>\n",
       "                 ivoid                  ...            res_title            \n",
       "                 object                 ...              object             \n",
       "--------------------------------------- ... --------------------------------\n",
       "ivo://irsa.ipac/wise/images/allwise/l3a ... AllWISE Atlas (L3a) Coadd Images"
      ]
     },
     "execution_count": 7,
     "metadata": {},
     "output_type": "execute_result"
    }
   ],
   "source": [
    "import pyvo as vo\n",
    "\n",
    "allwise_image_services = vo.regsearch(servicetype='image', keywords=['allwise'])#, 'NASA/IPAC Infrared Science Archive']) #, waveband='uv')\n",
    "\n",
    "\n",
    "#allwise_image_services = Registry.query(keyword='allwise', service_type='image')\n",
    "\n",
    "print(f'{len(allwise_image_services)} result(s) found.')\n",
    "\n",
    "allwise_image_services.to_table()['ivoid', 'short_name', 'res_title']\n"
   ]
  },
  {
   "cell_type": "markdown",
   "metadata": {},
   "source": [
    "## 6. Choose the AllWISE image service that you are interested in."
   ]
  },
  {
   "cell_type": "code",
   "execution_count": 8,
   "metadata": {},
   "outputs": [
    {
     "data": {
      "text/plain": [
       "(b'ivo://irsa.ipac/wise/images/allwise/l3a', 1, 1, b'vs:paramhttp', b'std', b'', b'', b'', b'', b'base', b'https://irsa.ipac.caltech.edu/ibe/sia/wise/allwise/p3am_cdd?', b'', 0, b'', b'ivo://irsa.ipac/wise/images/allwise/l3a', 1, b'sia:simpleimageaccess', '', b'ivo://ivoa.net/std/sia', b'ivo://irsa.ipac/wise/images/allwise/l3a', b'vs:catalogservice', b'2015-03-26T02:04:00', b'AllWISE L3a', 'AllWISE Atlas (L3a) Coadd Images', b'2017-03-16T01:00:00', b'research', 'The AllWISE program builds upon the work of the successful Wide-field Infrared Survey Explorer mission (WISE; Wright et al. 2010) by combining data from the WISE cryogenic and NEOWISE (Mainzer et al. 2011 ApJ, 731, 53) post-cryogenic survey phases to form the most comprehensive view of the full mid-infrared sky currently available. By combining the data from two complete sky coverage epochs using an advanced data processing system, AllWISE has generated new products that have enhanced photometric sensitivity and accuracy, and improved astrometric precision compared to the 2012 WISE All-Sky Data Release. Exploiting the 6 to 12 month baseline between the WISE sky coverage epochs enables AllWISE to measure source motions for the first time, and to compute improved flux variability statistics.\\n\\nThe AllWISE Images Atlas is comprised of 18,240 4-band calibrated 1.56°x1.56° FITS images, depth-of-coverage and noise maps, and image metadata produced by coadding nearly 7.9 million Single-exposure images from all survey phases.', b'http://wise2.ipac.caltech.edu/docs/release/allwise/expsup/', 'WISE team', b'survey', b'', '', b'', nan, b'infrared', b'', b'', b'ivo://irsa.ipac/registry')"
      ]
     },
     "execution_count": 8,
     "metadata": {},
     "output_type": "execute_result"
    }
   ],
   "source": [
    "allwise_image_service = allwise_image_services[0]\n",
    "allwise_image_service"
   ]
  },
  {
   "cell_type": "markdown",
   "metadata": {},
   "source": [
    "## 7. Choose one of the galaxies in the NED list.\n"
   ]
  },
  {
   "cell_type": "code",
   "execution_count": 9,
   "metadata": {},
   "outputs": [],
   "source": [
    "from astropy.coordinates import SkyCoord\n",
    "ra = 3.95892\n",
    "dec = -10.045109999999999\n",
    "pos = SkyCoord(ra, dec, unit = 'deg')"
   ]
  },
  {
   "cell_type": "markdown",
   "metadata": {},
   "source": [
    "## 8. Search for a list of AllWISE images that cover this galaxy.\n",
    "\n",
    "How many images are returned? Which are you most interested in?"
   ]
  },
  {
   "cell_type": "code",
   "execution_count": 10,
   "metadata": {},
   "outputs": [],
   "source": [
    "#from navo_utils.image import Image\n",
    "\n",
    "#Doing an image query will return a list.\n",
    "#Each element represents the search results for each position.\n",
    "#If you enter only one position, there will be only one element in the list.\n",
    "#Each element in the list can contain many images.\n",
    "\n",
    "#allwise_image_table=Image.query(service=allwise_image_service,coords=pos,radius=0)"
   ]
  },
  {
   "cell_type": "code",
   "execution_count": 11,
   "metadata": {},
   "outputs": [
    {
     "data": {
      "text/plain": [
       "<Table masked=True length=4>\n",
       "      sia_title        ...    coadd_id  \n",
       "                       ...              \n",
       "        object         ...     object   \n",
       "---------------------- ... -------------\n",
       "W1 Coadd 0046m107_ac51 ... 0046m107_ac51\n",
       "W3 Coadd 0046m107_ac51 ... 0046m107_ac51\n",
       "W4 Coadd 0046m107_ac51 ... 0046m107_ac51\n",
       "W2 Coadd 0046m107_ac51 ... 0046m107_ac51"
      ]
     },
     "execution_count": 11,
     "metadata": {},
     "output_type": "execute_result"
    }
   ],
   "source": [
    "allwise_image_table = allwise_image_service.search(pos=pos, size=0)\n",
    "allwise_image_table"
   ]
  },
  {
   "cell_type": "markdown",
   "metadata": {},
   "source": [
    "## 9. How many images are returned for this one position? Which are you most interested in?"
   ]
  },
  {
   "cell_type": "code",
   "execution_count": 12,
   "metadata": {},
   "outputs": [
    {
     "data": {
      "text/html": [
       "<i>Table masked=True length=4</i>\n",
       "<table id=\"table4804253568\" class=\"table-striped table-bordered table-condensed\">\n",
       "<thead><tr><th>sia_title</th><th>sia_url</th><th>sia_naxes</th><th>sia_fmt</th><th>sia_ra</th><th>sia_dec</th><th>sia_naxis</th><th>sia_crpix</th><th>sia_crval</th><th>sia_proj</th><th>sia_scale</th><th>sia_cd</th><th>sia_bp_id</th><th>sia_bp_ref</th><th>sia_bp_hi</th><th>sia_bp_lo</th><th>magzp</th><th>magzpunc</th><th>unc_url</th><th>cov_url</th><th>coadd_id</th></tr></thead>\n",
       "<thead><tr><th></th><th></th><th></th><th></th><th>deg</th><th>deg</th><th></th><th>pix</th><th>deg</th><th></th><th>deg / pix</th><th>deg / pix</th><th></th><th></th><th></th><th></th><th></th><th></th><th></th><th></th><th></th></tr></thead>\n",
       "<thead><tr><th>object</th><th>object</th><th>int32</th><th>object</th><th>float64</th><th>float64</th><th>object</th><th>object</th><th>object</th><th>object</th><th>object</th><th>object</th><th>object</th><th>float64</th><th>float64</th><th>float64</th><th>float64</th><th>float64</th><th>object</th><th>object</th><th>object</th></tr></thead>\n",
       "<tr><td>W1 Coadd 0046m107_ac51</td><td>https://irsa.ipac.caltech.edu/ibe/data/wise/allwise/p3am_cdd/00/0046/0046m107_ac51/0046m107_ac51-w1-int-3.fits</td><td>2</td><td>image/fits</td><td>4.61538</td><td>-10.601111</td><td>[4095 4095]</td><td>[2048.0 2048.0]</td><td>[4.61538 -10.601111]</td><td>SIN</td><td>[-0.0003819444391411 0.0003819444391411]</td><td>[-0.0003819444391411 -0.0 -0.0 0.0003819444391411]</td><td>W1</td><td>3.35e-06</td><td>3.78e-06</td><td>3.13e-06</td><td>20.5</td><td>0.006</td><td>https://irsa.ipac.caltech.edu/ibe/data/wise/allwise/p3am_cdd/00/0046/0046m107_ac51/0046m107_ac51-w1-unc-3.fits.gz</td><td>https://irsa.ipac.caltech.edu/ibe/data/wise/allwise/p3am_cdd/00/0046/0046m107_ac51/0046m107_ac51-w1-cov-3.fits.gz</td><td>0046m107_ac51</td></tr>\n",
       "<tr><td>W3 Coadd 0046m107_ac51</td><td>https://irsa.ipac.caltech.edu/ibe/data/wise/allwise/p3am_cdd/00/0046/0046m107_ac51/0046m107_ac51-w3-int-3.fits</td><td>2</td><td>image/fits</td><td>4.61538</td><td>-10.601111</td><td>[4095 4095]</td><td>[2048.0 2048.0]</td><td>[4.61538 -10.601111]</td><td>SIN</td><td>[-0.0003819444391411 0.0003819444391411]</td><td>[-0.0003819444391411 -0.0 -0.0 0.0003819444391411]</td><td>W3</td><td>1.156e-05</td><td>1.627e-05</td><td>7.6e-06</td><td>18.0</td><td>0.012</td><td>https://irsa.ipac.caltech.edu/ibe/data/wise/allwise/p3am_cdd/00/0046/0046m107_ac51/0046m107_ac51-w3-unc-3.fits.gz</td><td>https://irsa.ipac.caltech.edu/ibe/data/wise/allwise/p3am_cdd/00/0046/0046m107_ac51/0046m107_ac51-w3-cov-3.fits.gz</td><td>0046m107_ac51</td></tr>\n",
       "<tr><td>W4 Coadd 0046m107_ac51</td><td>https://irsa.ipac.caltech.edu/ibe/data/wise/allwise/p3am_cdd/00/0046/0046m107_ac51/0046m107_ac51-w4-int-3.fits</td><td>2</td><td>image/fits</td><td>4.61538</td><td>-10.601111</td><td>[4095 4095]</td><td>[2048.0 2048.0]</td><td>[4.61538 -10.601111]</td><td>SIN</td><td>[-0.0003819444391411 0.0003819444391411]</td><td>[-0.0003819444391411 -0.0 -0.0 0.0003819444391411]</td><td>W4</td><td>2.209e-05</td><td>2.336e-05</td><td>1.984e-05</td><td>13.0</td><td>0.012</td><td>https://irsa.ipac.caltech.edu/ibe/data/wise/allwise/p3am_cdd/00/0046/0046m107_ac51/0046m107_ac51-w4-unc-3.fits.gz</td><td>https://irsa.ipac.caltech.edu/ibe/data/wise/allwise/p3am_cdd/00/0046/0046m107_ac51/0046m107_ac51-w4-cov-3.fits.gz</td><td>0046m107_ac51</td></tr>\n",
       "<tr><td>W2 Coadd 0046m107_ac51</td><td>https://irsa.ipac.caltech.edu/ibe/data/wise/allwise/p3am_cdd/00/0046/0046m107_ac51/0046m107_ac51-w2-int-3.fits</td><td>2</td><td>image/fits</td><td>4.61538</td><td>-10.601111</td><td>[4095 4095]</td><td>[2048.0 2048.0]</td><td>[4.61538 -10.601111]</td><td>SIN</td><td>[-0.0003819444391411 0.0003819444391411]</td><td>[-0.0003819444391411 -0.0 -0.0 0.0003819444391411]</td><td>W2</td><td>4.6e-06</td><td>5.19e-06</td><td>4.02e-06</td><td>19.5</td><td>0.007</td><td>https://irsa.ipac.caltech.edu/ibe/data/wise/allwise/p3am_cdd/00/0046/0046m107_ac51/0046m107_ac51-w2-unc-3.fits.gz</td><td>https://irsa.ipac.caltech.edu/ibe/data/wise/allwise/p3am_cdd/00/0046/0046m107_ac51/0046m107_ac51-w2-cov-3.fits.gz</td><td>0046m107_ac51</td></tr>\n",
       "</table>"
      ],
      "text/plain": [
       "<Table masked=True length=4>\n",
       "      sia_title        ...    coadd_id  \n",
       "                       ...              \n",
       "        object         ...     object   \n",
       "---------------------- ... -------------\n",
       "W1 Coadd 0046m107_ac51 ... 0046m107_ac51\n",
       "W3 Coadd 0046m107_ac51 ... 0046m107_ac51\n",
       "W4 Coadd 0046m107_ac51 ... 0046m107_ac51\n",
       "W2 Coadd 0046m107_ac51 ... 0046m107_ac51"
      ]
     },
     "execution_count": 12,
     "metadata": {},
     "output_type": "execute_result"
    }
   ],
   "source": [
    "allwise_images = allwise_image_table.to_table()\n",
    "allwise_images"
   ]
  },
  {
   "cell_type": "markdown",
   "metadata": {},
   "source": [
    "## 10. Filter the list of returned AllWISE images so that you are left with only the images taken in band W1 (3.6 micron)"
   ]
  },
  {
   "cell_type": "code",
   "execution_count": 13,
   "metadata": {},
   "outputs": [
    {
     "data": {
      "text/html": [
       "<i>Table masked=True length=1</i>\n",
       "<table id=\"table4804542592\" class=\"table-striped table-bordered table-condensed\">\n",
       "<thead><tr><th>sia_title</th><th>sia_url</th><th>sia_naxes</th><th>sia_fmt</th><th>sia_ra</th><th>sia_dec</th><th>sia_naxis</th><th>sia_crpix</th><th>sia_crval</th><th>sia_proj</th><th>sia_scale</th><th>sia_cd</th><th>sia_bp_id</th><th>sia_bp_ref</th><th>sia_bp_hi</th><th>sia_bp_lo</th><th>magzp</th><th>magzpunc</th><th>unc_url</th><th>cov_url</th><th>coadd_id</th></tr></thead>\n",
       "<thead><tr><th></th><th></th><th></th><th></th><th>deg</th><th>deg</th><th></th><th>pix</th><th>deg</th><th></th><th>deg / pix</th><th>deg / pix</th><th></th><th></th><th></th><th></th><th></th><th></th><th></th><th></th><th></th></tr></thead>\n",
       "<thead><tr><th>object</th><th>object</th><th>int32</th><th>object</th><th>float64</th><th>float64</th><th>object</th><th>object</th><th>object</th><th>object</th><th>object</th><th>object</th><th>object</th><th>float64</th><th>float64</th><th>float64</th><th>float64</th><th>float64</th><th>object</th><th>object</th><th>object</th></tr></thead>\n",
       "<tr><td>W1 Coadd 0046m107_ac51</td><td>https://irsa.ipac.caltech.edu/ibe/data/wise/allwise/p3am_cdd/00/0046/0046m107_ac51/0046m107_ac51-w1-int-3.fits</td><td>2</td><td>image/fits</td><td>4.61538</td><td>-10.601111</td><td>[4095 4095]</td><td>[2048.0 2048.0]</td><td>[4.61538 -10.601111]</td><td>SIN</td><td>[-0.0003819444391411 0.0003819444391411]</td><td>[-0.0003819444391411 -0.0 -0.0 0.0003819444391411]</td><td>W1</td><td>3.35e-06</td><td>3.78e-06</td><td>3.13e-06</td><td>20.5</td><td>0.006</td><td>https://irsa.ipac.caltech.edu/ibe/data/wise/allwise/p3am_cdd/00/0046/0046m107_ac51/0046m107_ac51-w1-unc-3.fits.gz</td><td>https://irsa.ipac.caltech.edu/ibe/data/wise/allwise/p3am_cdd/00/0046/0046m107_ac51/0046m107_ac51-w1-cov-3.fits.gz</td><td>0046m107_ac51</td></tr>\n",
       "</table>"
      ],
      "text/plain": [
       "<Table masked=True length=1>\n",
       "      sia_title        ...    coadd_id  \n",
       "                       ...              \n",
       "        object         ...     object   \n",
       "---------------------- ... -------------\n",
       "W1 Coadd 0046m107_ac51 ... 0046m107_ac51"
      ]
     },
     "execution_count": 13,
     "metadata": {},
     "output_type": "execute_result"
    }
   ],
   "source": [
    "allwise_w1_images = allwise_images[allwise_images['sia_bp_id'] == b'W1']\n",
    "allwise_w1_images"
   ]
  },
  {
   "cell_type": "markdown",
   "metadata": {},
   "source": [
    "## 11. Visualize this AllWISE image."
   ]
  },
  {
   "cell_type": "code",
   "execution_count": 14,
   "metadata": {},
   "outputs": [],
   "source": [
    "#allwise_w1_image = Image.get_fits(allwise_w1_images[0])\n",
    "from astropy.io import fits\n",
    "allwise_w1_image = fits.open(allwise_w1_images['sia_url'][0].decode())"
   ]
  },
  {
   "cell_type": "code",
   "execution_count": 15,
   "metadata": {},
   "outputs": [
    {
     "data": {
      "text/plain": [
       "<matplotlib.collections.PathCollection at 0x11f92a5f8>"
      ]
     },
     "execution_count": 15,
     "metadata": {},
     "output_type": "execute_result"
    },
    {
     "data": {
      "image/png": "[encoded data removed]",
      "text/plain": [
       "<Figure size 432x288 with 1 Axes>"
      ]
     },
     "metadata": {
      "needs_background": "light"
     },
     "output_type": "display_data"
    }
   ],
   "source": [
    "import matplotlib.pyplot as plt\n",
    "from astropy.wcs import WCS\n",
    "%matplotlib inline  \n",
    "\n",
    "fig = plt.figure()\n",
    "\n",
    "wcs = WCS(allwise_w1_image[0].header)\n",
    "ax = fig.add_subplot(1, 1, 1, projection=wcs)\n",
    "ax.imshow(allwise_w1_image[0].data, cmap='gray_r', origin='lower', vmax = 10)\n",
    "ax.scatter(ra, dec, transform=ax.get_transform('fk5'), s=500, edgecolor='red', facecolor='none')"
   ]
  },
  {
   "cell_type": "markdown",
   "metadata": {},
   "source": [
    "## 12. Plot a cutout of the AllWISE image, centered on your position.\n",
    "\n",
    "Try a 60 arcsecond cutout."
   ]
  },
  {
   "cell_type": "code",
   "execution_count": 16,
   "metadata": {},
   "outputs": [
    {
     "data": {
      "text/plain": [
       "<matplotlib.collections.PathCollection at 0x134a74a20>"
      ]
     },
     "execution_count": 16,
     "metadata": {},
     "output_type": "execute_result"
    },
    {
     "data": {
      "image/png": "[encoded data removed]",
      "text/plain": [
       "<Figure size 432x288 with 1 Axes>"
      ]
     },
     "metadata": {
      "needs_background": "light"
     },
     "output_type": "display_data"
    }
   ],
   "source": [
    "from astropy.nddata import Cutout2D\n",
    "\n",
    "size = 60\n",
    "cutout = Cutout2D(allwise_w1_image[0].data, pos, (size, size), wcs=wcs)\n",
    "wcs = cutout.wcs\n",
    "\n",
    "fig = plt.figure()\n",
    "\n",
    "ax = fig.add_subplot(1, 1, 1, projection=wcs)\n",
    "ax.imshow(cutout.data, cmap='gray_r', origin='lower', vmax = 10)\n",
    "ax.scatter(ra, dec, transform=ax.get_transform('fk5'), s=500, edgecolor='red', facecolor='none')\n"
   ]
  },
  {
   "cell_type": "markdown",
   "metadata": {},
   "source": [
    "## 13. Try visualizing a cutout of a GALEX image that covers your position."
   ]
  },
  {
   "cell_type": "raw",
   "metadata": {},
   "source": [
    "galex_image_services = Registry.query(keyword='galex', service_type='image', publisher = 'Space Telescope Science Institute')\n",
    "#print(f'{len(galex_image_services)} result(s) found.')\n",
    "\n",
    "galex_image_service = galex_image_services[0]\n",
    "#galex_image_serviceservice,coords=pos,radius=0)\n",
    "\n",
    "galex_image_table = Image.query(service=galex_image_service,coords=pos,radius=0)\n",
    "galex_images = galex_image_table[0]\n",
    "#galex_image_table[0]\n",
    "\n",
    "galex_image_table[0]['contentType']\n",
    "galex_fits_images = galex_images[galex_images['contentType'] == 'image/fits']\n",
    "#galex_fits_images\n",
    "\n",
    "galex_nuv_fits_images = galex_fits_images[galex_fits_images['enrValue']==2.35e-07]\n",
    "#galex_nuv_fits_images\n",
    "\n",
    "galex_nuv_fits_coadd = galex_nuv_fits_images[0]\n",
    "#galex_nuv_fits_coadd\n",
    "\n",
    "galex_nuv_image = Image.get_fits(galex_nuv_fits_coadd)"
   ]
  },
  {
   "cell_type": "raw",
   "metadata": {},
   "source": [
    "import numpy as np\n",
    "image_data = galex_nuv_image[0].data\n",
    "print('Min:', np.min(image_data))\n",
    "print('Max:', np.max(image_data))\n",
    "print('Mean:', np.mean(image_data))\n",
    "print('Stdev:', np.std(image_data))"
   ]
  },
  {
   "cell_type": "raw",
   "metadata": {},
   "source": [
    "fig = plt.figure()\n",
    "ax = fig.add_subplot(1, 1, 1, projection=WCS(galex_nuv_image[0].header))\n",
    "ax.imshow(galex_nuv_image[0].data, cmap='gray_r', origin='lower', vmin=0.0, vmax=0.01)\n",
    "ax.scatter(ra, dec, transform=ax.get_transform('fk5'), s=500, edgecolor='red', facecolor='none')   "
   ]
  },
  {
   "cell_type": "raw",
   "metadata": {},
   "source": [
    "cutout = Cutout2D(galex_nuv_image[0].data, pos, size, wcs=WCS(galex_nuv_image[0].header))\n",
    "\n",
    "fig = plt.figure()\n",
    "\n",
    "ax = fig.add_subplot(1, 1, 1, projection=cutout.wcs)\n",
    "ax.imshow(cutout.data, cmap='gray_r', origin='lower', vmin = 0.0, vmax = 0.01)\n",
    "ax.scatter(ra, dec, transform=ax.get_transform('fk5'), s=500, edgecolor='red', facecolor='none')\n"
   ]
  }
 ],
 "metadata": {
  "kernelspec": {
   "display_name": "Python 3",
   "language": "python",
   "name": "python3"
  },
  "language_info": {
   "codemirror_mode": {
    "name": "ipython",
    "version": 3
   },
   "file_extension": ".py",
   "mimetype": "text/x-python",
   "name": "python",
   "nbconvert_exporter": "python",
   "pygments_lexer": "ipython3",
   "version": "3.7.3"
  }
 },
 "nbformat": 4,
 "nbformat_minor": 4
}
